{
 "cells": [
  {
   "cell_type": "markdown",
   "id": "067e0061",
   "metadata": {},
   "source": [
    "# TWITTER SENTIMENT ANALYSIS"
   ]
  },
  {
   "cell_type": "code",
   "execution_count": null,
   "id": "60aff736",
   "metadata": {},
   "outputs": [],
   "source": [
    "### import require  libraries"
   ]
  },
  {
   "cell_type": "code",
   "execution_count": null,
   "id": "68cb73ae",
   "metadata": {},
   "outputs": [],
   "source": [
    "import pandas as pd"
   ]
  },
  {
   "cell_type": "code",
   "execution_count": null,
   "id": "a1ed3afa",
   "metadata": {},
   "outputs": [],
   "source": [
    "import numpy as np"
   ]
  },
  {
   "cell_type": "code",
   "execution_count": null,
   "id": "c74e6da9",
   "metadata": {},
   "outputs": [],
   "source": [
    "from matplotlib import pyplot as plt"
   ]
  },
  {
   "cell_type": "code",
   "execution_count": null,
   "id": "fe6ae62d",
   "metadata": {},
   "outputs": [],
   "source": [
    "import seaborn as sns"
   ]
  },
  {
   "cell_type": "code",
   "execution_count": null,
   "id": "a2291415",
   "metadata": {},
   "outputs": [],
   "source": [
    "import warnings as wr\n",
    "wr.filterwarnings(\"ignore\")"
   ]
  },
  {
   "cell_type": "code",
   "execution_count": null,
   "id": "9be75e91",
   "metadata": {},
   "outputs": [],
   "source": [
    "df=pd.read_csv(\"twitter.csv\",encoding='latin-1')"
   ]
  },
  {
   "cell_type": "code",
   "execution_count": null,
   "id": "5a07edd4",
   "metadata": {},
   "outputs": [],
   "source": [
    "df"
   ]
  },
  {
   "cell_type": "code",
   "execution_count": null,
   "id": "be0c1988",
   "metadata": {},
   "outputs": [],
   "source": [
    "df.info()"
   ]
  },
  {
   "cell_type": "code",
   "execution_count": null,
   "id": "a96e8431",
   "metadata": {},
   "outputs": [],
   "source": [
    "df.isnull().sum()"
   ]
  },
  {
   "cell_type": "code",
   "execution_count": null,
   "id": "5af2e7c9",
   "metadata": {},
   "outputs": [],
   "source": [
    "# for remove thee null values\n",
    "df=df.dropna()"
   ]
  },
  {
   "cell_type": "code",
   "execution_count": null,
   "id": "5e61aec0",
   "metadata": {},
   "outputs": [],
   "source": [
    "df.isnull().sum()"
   ]
  },
  {
   "cell_type": "code",
   "execution_count": null,
   "id": "ed436338",
   "metadata": {},
   "outputs": [],
   "source": [
    "df.info()"
   ]
  },
  {
   "cell_type": "markdown",
   "id": "efaf85ed",
   "metadata": {},
   "source": [
    "## CLEANING TEXT DATA"
   ]
  },
  {
   "cell_type": "code",
   "execution_count": null,
   "id": "974f31b0",
   "metadata": {},
   "outputs": [],
   "source": [
    "import neattext.functions as nfx"
   ]
  },
  {
   "cell_type": "code",
   "execution_count": null,
   "id": "3337fecb",
   "metadata": {},
   "outputs": [],
   "source": [
    "import nltk"
   ]
  },
  {
   "cell_type": "code",
   "execution_count": null,
   "id": "153969bb",
   "metadata": {},
   "outputs": [],
   "source": [
    "from nltk.stem.porter import PorterStemmer"
   ]
  },
  {
   "cell_type": "code",
   "execution_count": null,
   "id": "cf818b3d",
   "metadata": {},
   "outputs": [],
   "source": [
    "ps=PorterStemmer()"
   ]
  },
  {
   "cell_type": "code",
   "execution_count": null,
   "id": "a4265c42",
   "metadata": {},
   "outputs": [],
   "source": [
    "# for removeing stopwords we apply function\n",
    "\n",
    "df[\"tweet\"]=df[\"tweet\"].apply(nfx.remove_stopwords)"
   ]
  },
  {
   "cell_type": "code",
   "execution_count": null,
   "id": "63903a91",
   "metadata": {},
   "outputs": [],
   "source": [
    "df"
   ]
  },
  {
   "cell_type": "code",
   "execution_count": null,
   "id": "dd641192",
   "metadata": {},
   "outputs": [],
   "source": [
    "# for remove  punctuations from text data\n",
    "\n",
    "df[\"tweet\"]=df[\"tweet\"].apply(nfx.remove_punctuations)"
   ]
  },
  {
   "cell_type": "code",
   "execution_count": null,
   "id": "af3e0e49",
   "metadata": {},
   "outputs": [],
   "source": [
    "# for removeing html tags we apply function\n",
    "\n",
    "df[\"tweet\"]=df[\"tweet\"].apply(nfx.remove_html_tags)"
   ]
  },
  {
   "cell_type": "code",
   "execution_count": null,
   "id": "92a0ad09",
   "metadata": {},
   "outputs": [],
   "source": [
    "df"
   ]
  },
  {
   "cell_type": "code",
   "execution_count": null,
   "id": "460fe0fa",
   "metadata": {},
   "outputs": [],
   "source": [
    "import string as str"
   ]
  },
  {
   "cell_type": "code",
   "execution_count": null,
   "id": "203ea441",
   "metadata": {},
   "outputs": [],
   "source": [
    "df[\"tweet\"]=df[\"tweet\"].str.lower()"
   ]
  },
  {
   "cell_type": "code",
   "execution_count": null,
   "id": "a69d46c7",
   "metadata": {},
   "outputs": [],
   "source": [
    "df[\"tweet\"]=df[\"tweet\"].str.replace(\"[^a-zA-Z#]\", \" \")"
   ]
  },
  {
   "cell_type": "code",
   "execution_count": null,
   "id": "136a98e3",
   "metadata": {},
   "outputs": [],
   "source": [
    "df[\"tweet\"]=df[\"tweet\"].apply(lambda x: x.split())"
   ]
  },
  {
   "cell_type": "code",
   "execution_count": null,
   "id": "203b7bcf",
   "metadata": {},
   "outputs": [],
   "source": [
    "tweet=df[\"tweet\"].apply(lambda x :[ps.stem(word) for word in x])"
   ]
  },
  {
   "cell_type": "code",
   "execution_count": null,
   "id": "151140f9",
   "metadata": {},
   "outputs": [],
   "source": [
    "tweet"
   ]
  },
  {
   "cell_type": "code",
   "execution_count": null,
   "id": "99f3d6ec",
   "metadata": {},
   "outputs": [],
   "source": [
    "tweet=tweet.apply(lambda x: \" \".join([tweet for tweet in x]))"
   ]
  },
  {
   "cell_type": "code",
   "execution_count": null,
   "id": "262935b4",
   "metadata": {},
   "outputs": [],
   "source": [
    "tweet"
   ]
  },
  {
   "cell_type": "code",
   "execution_count": null,
   "id": "a66dd503",
   "metadata": {},
   "outputs": [],
   "source": [
    "tweet[1]"
   ]
  },
  {
   "cell_type": "code",
   "execution_count": null,
   "id": "a9794c52",
   "metadata": {},
   "outputs": [],
   "source": [
    "df[\"tweet\"]=tweet"
   ]
  },
  {
   "cell_type": "code",
   "execution_count": null,
   "id": "27ad4c6a",
   "metadata": {},
   "outputs": [],
   "source": [
    "df[\"tweet\"][8]"
   ]
  },
  {
   "cell_type": "code",
   "execution_count": null,
   "id": "00f802bd",
   "metadata": {},
   "outputs": [],
   "source": [
    "df.drop([\"clean\"],axis=1,inplace=True)"
   ]
  },
  {
   "cell_type": "code",
   "execution_count": null,
   "id": "b6665369",
   "metadata": {},
   "outputs": [],
   "source": [
    "df.head(10)"
   ]
  },
  {
   "cell_type": "code",
   "execution_count": null,
   "id": "16d8dbec",
   "metadata": {},
   "outputs": [],
   "source": [
    "df[\"label\"].value_counts()"
   ]
  },
  {
   "cell_type": "code",
   "execution_count": null,
   "id": "28cd0787",
   "metadata": {},
   "outputs": [],
   "source": [
    "label={\"Negative\":0,\"Positive\":1,\"Neutral\":2,\"Irrelevant\":3}"
   ]
  },
  {
   "cell_type": "code",
   "execution_count": null,
   "id": "d064a99f",
   "metadata": {},
   "outputs": [],
   "source": [
    "df[\"label\"]=df[\"label\"].map(label)"
   ]
  },
  {
   "cell_type": "code",
   "execution_count": null,
   "id": "47ef9e4d",
   "metadata": {},
   "outputs": [],
   "source": [
    "df"
   ]
  },
  {
   "cell_type": "code",
   "execution_count": null,
   "id": "6ab7e216",
   "metadata": {},
   "outputs": [],
   "source": [
    "pip install wordcloud"
   ]
  },
  {
   "cell_type": "code",
   "execution_count": null,
   "id": "0a8f4966",
   "metadata": {},
   "outputs": [],
   "source": [
    "from wordcloud import WordCloud"
   ]
  },
  {
   "cell_type": "code",
   "execution_count": null,
   "id": "e6a55171",
   "metadata": {},
   "outputs": [],
   "source": [
    "tweet"
   ]
  },
  {
   "cell_type": "markdown",
   "id": "724dcaee",
   "metadata": {},
   "source": [
    "# plotting the frequent words"
   ]
  },
  {
   "cell_type": "code",
   "execution_count": null,
   "id": "04fb9e0b",
   "metadata": {},
   "outputs": [],
   "source": [
    "words=\" \".join([sentences for sentences in df[\"tweet\"]])"
   ]
  },
  {
   "cell_type": "code",
   "execution_count": null,
   "id": "31ff992d",
   "metadata": {},
   "outputs": [],
   "source": [
    "words"
   ]
  },
  {
   "cell_type": "code",
   "execution_count": null,
   "id": "d6f3ae18",
   "metadata": {
    "scrolled": true
   },
   "outputs": [],
   "source": [
    "wc=WordCloud(width=800,height=500,max_font_size=100,random_state=42).generate(words)"
   ]
  },
  {
   "cell_type": "code",
   "execution_count": null,
   "id": "3ff47e30",
   "metadata": {},
   "outputs": [],
   "source": [
    "plt.figure(figsize=(18,7))\n",
    "plt.imshow(wc,interpolation=\"bilinear\")\n",
    "plt.axis(\"off\")"
   ]
  },
  {
   "cell_type": "markdown",
   "id": "f85fdcdb",
   "metadata": {},
   "source": [
    "# plotting the positive frequent words"
   ]
  },
  {
   "cell_type": "code",
   "execution_count": null,
   "id": "0fe8470a",
   "metadata": {},
   "outputs": [],
   "source": [
    "# for plotting of positive label \n",
    "\n",
    "positive=\" \".join([sentences for sentences in df[\"tweet\"][df[\"label\"]==1]])"
   ]
  },
  {
   "cell_type": "code",
   "execution_count": null,
   "id": "d244ef41",
   "metadata": {},
   "outputs": [],
   "source": [
    "positive"
   ]
  },
  {
   "cell_type": "code",
   "execution_count": null,
   "id": "05d73568",
   "metadata": {},
   "outputs": [],
   "source": [
    "wc1=WordCloud(width=800,height=500,max_font_size=100,random_state=42).generate(positive)"
   ]
  },
  {
   "cell_type": "code",
   "execution_count": null,
   "id": "121bf6dd",
   "metadata": {},
   "outputs": [],
   "source": [
    "plt.figure(figsize=(15,9))\n",
    "plt.imshow(wc1,interpolation=\"bilinear\")\n",
    "plt.axis(\"off\")\n",
    "plt.show()"
   ]
  },
  {
   "cell_type": "markdown",
   "id": "1c54e80f",
   "metadata": {},
   "source": [
    "# plotting the negative frequent words"
   ]
  },
  {
   "cell_type": "code",
   "execution_count": null,
   "id": "989e78cd",
   "metadata": {},
   "outputs": [],
   "source": [
    "negative=\" \".join([sentences for sentences in df[\"tweet\"][df[\"label\"]==0]])"
   ]
  },
  {
   "cell_type": "code",
   "execution_count": null,
   "id": "55903ba5",
   "metadata": {},
   "outputs": [],
   "source": [
    "wc2=WordCloud(width=800,height=500,max_font_size=100,random_state=42).generate(negative)"
   ]
  },
  {
   "cell_type": "code",
   "execution_count": null,
   "id": "e9d61ab6",
   "metadata": {},
   "outputs": [],
   "source": [
    "negative"
   ]
  },
  {
   "cell_type": "code",
   "execution_count": null,
   "id": "2ca44a5a",
   "metadata": {},
   "outputs": [],
   "source": [
    "plt.figure(figsize=(15,9))\n",
    "plt.imshow(wc2,interpolation=\"bilinear\")\n",
    "plt.axis(\"off\")\n",
    "plt.show()"
   ]
  },
  {
   "cell_type": "code",
   "execution_count": null,
   "id": "7804f443",
   "metadata": {},
   "outputs": [],
   "source": [
    "# now we ploting the labels"
   ]
  },
  {
   "cell_type": "code",
   "execution_count": null,
   "id": "27311be7",
   "metadata": {},
   "outputs": [],
   "source": [
    "plt.figure(figsize=(9,9))\n",
    "sns.countplot(df[\"label\"])\n",
    "plt.title(\"LABELS\")\n",
    "\n",
    "plt.xlabel(\"0 for negative , 1 for postive  , 2 for neutral , 3 for   irrelevant \")"
   ]
  },
  {
   "cell_type": "markdown",
   "id": "5a582e3d",
   "metadata": {},
   "source": [
    "# creating pipline"
   ]
  },
  {
   "cell_type": "code",
   "execution_count": null,
   "id": "afc3f8f0",
   "metadata": {},
   "outputs": [],
   "source": [
    "# now we create the pipline"
   ]
  },
  {
   "cell_type": "code",
   "execution_count": null,
   "id": "c2583477",
   "metadata": {},
   "outputs": [],
   "source": [
    "from sklearn.pipeline import Pipeline"
   ]
  },
  {
   "cell_type": "code",
   "execution_count": null,
   "id": "b66f5a55",
   "metadata": {},
   "outputs": [],
   "source": [
    "from sklearn.feature_extraction.text import CountVectorizer"
   ]
  },
  {
   "cell_type": "code",
   "execution_count": null,
   "id": "1878d9da",
   "metadata": {},
   "outputs": [],
   "source": [
    "from sklearn.linear_model import LogisticRegression\n",
    "from xgboost import XGBClassifier\n",
    "from sklearn.naive_bayes import MultinomialNB"
   ]
  },
  {
   "cell_type": "code",
   "execution_count": null,
   "id": "de702794",
   "metadata": {},
   "outputs": [],
   "source": [
    "model=Pipeline(steps=[(\"cv\",CountVectorizer()),(\"lr\",LogisticRegression())])"
   ]
  },
  {
   "cell_type": "markdown",
   "id": "78f274a3",
   "metadata": {},
   "source": [
    "## splitting the data "
   ]
  },
  {
   "cell_type": "code",
   "execution_count": null,
   "id": "b5d02cfc",
   "metadata": {},
   "outputs": [],
   "source": [
    "x=df[\"tweet\"]"
   ]
  },
  {
   "cell_type": "code",
   "execution_count": null,
   "id": "cb28a7fc",
   "metadata": {},
   "outputs": [],
   "source": [
    "y=df[\"label\"]"
   ]
  },
  {
   "cell_type": "code",
   "execution_count": null,
   "id": "a8d6821f",
   "metadata": {},
   "outputs": [],
   "source": [
    "from sklearn.model_selection import train_test_split"
   ]
  },
  {
   "cell_type": "code",
   "execution_count": null,
   "id": "f1b3879e",
   "metadata": {},
   "outputs": [],
   "source": [
    "x_train,x_test,y_train,y_test=train_test_split(x,y,random_state=1,test_size=0.20)"
   ]
  },
  {
   "cell_type": "markdown",
   "id": "e2b9f2a4",
   "metadata": {},
   "source": [
    "## fitting data into model"
   ]
  },
  {
   "cell_type": "code",
   "execution_count": null,
   "id": "f108e075",
   "metadata": {},
   "outputs": [],
   "source": [
    "model.fit(x_train,y_train)"
   ]
  },
  {
   "cell_type": "code",
   "execution_count": null,
   "id": "c8e2cc80",
   "metadata": {},
   "outputs": [],
   "source": [
    "model.score(x_test,y_test)"
   ]
  },
  {
   "cell_type": "code",
   "execution_count": null,
   "id": "ad134e43",
   "metadata": {},
   "outputs": [],
   "source": [
    "y_pred=model.predict(x_test)"
   ]
  },
  {
   "cell_type": "code",
   "execution_count": null,
   "id": "cab5ae9f",
   "metadata": {},
   "outputs": [],
   "source": [
    "pd.DataFrame({\"actual_labels\":y_test,\"predicted_labels\":y_pred}).head(20)\n"
   ]
  },
  {
   "cell_type": "code",
   "execution_count": null,
   "id": "337b20c6",
   "metadata": {},
   "outputs": [],
   "source": [
    "tweet=\"now this the new evoluation of nlp\""
   ]
  },
  {
   "cell_type": "code",
   "execution_count": null,
   "id": "7414ec5b",
   "metadata": {},
   "outputs": [],
   "source": [
    "model.predict([tweet])"
   ]
  },
  {
   "cell_type": "code",
   "execution_count": null,
   "id": "3023bb1a",
   "metadata": {},
   "outputs": [],
   "source": [
    "model.classes_"
   ]
  },
  {
   "cell_type": "code",
   "execution_count": null,
   "id": "03f195e8",
   "metadata": {},
   "outputs": [],
   "source": [
    "model.predict_proba([tweet])"
   ]
  },
  {
   "cell_type": "markdown",
   "id": "d1d3e7d0",
   "metadata": {},
   "source": [
    "## 0 ---> nagative\n",
    "\n",
    "## 1 ---> positive\n",
    "\n",
    "## 2 ---> neutral\n",
    "\n",
    "## 3 ---> Irrelevant"
   ]
  },
  {
   "cell_type": "code",
   "execution_count": null,
   "id": "c8b196c1",
   "metadata": {},
   "outputs": [],
   "source": [
    "# now we evaluating the model"
   ]
  },
  {
   "cell_type": "code",
   "execution_count": null,
   "id": "1d037f8c",
   "metadata": {},
   "outputs": [],
   "source": [
    "from sklearn.metrics import confusion_matrix"
   ]
  },
  {
   "cell_type": "code",
   "execution_count": null,
   "id": "8cddf307",
   "metadata": {},
   "outputs": [],
   "source": [
    "confusion_matrix(y_pred,y_test)"
   ]
  },
  {
   "cell_type": "code",
   "execution_count": null,
   "id": "c610c309",
   "metadata": {},
   "outputs": [],
   "source": [
    "# now we finding the heatmap of correlation"
   ]
  },
  {
   "cell_type": "code",
   "execution_count": null,
   "id": "ced0b0f1",
   "metadata": {},
   "outputs": [],
   "source": [
    "sns.heatmap(confusion_matrix(y_pred,y_test))"
   ]
  },
  {
   "cell_type": "code",
   "execution_count": null,
   "id": "fec2909c",
   "metadata": {},
   "outputs": [],
   "source": [
    "from sklearn.metrics import classification_report,accuracy_score"
   ]
  },
  {
   "cell_type": "code",
   "execution_count": null,
   "id": "432b1002",
   "metadata": {},
   "outputs": [],
   "source": [
    "# classification_report\n",
    "\n",
    "print(classification_report(y_test,y_pred))"
   ]
  },
  {
   "cell_type": "code",
   "execution_count": null,
   "id": "c7212023",
   "metadata": {},
   "outputs": [],
   "source": [
    "accuracy_score(y_test,y_pred)"
   ]
  },
  {
   "cell_type": "code",
   "execution_count": null,
   "id": "5b315564",
   "metadata": {},
   "outputs": [],
   "source": []
  }
 ],
 "metadata": {
  "kernelspec": {
   "display_name": "Python 3",
   "language": "python",
   "name": "python3"
  },
  "language_info": {
   "codemirror_mode": {
    "name": "ipython",
    "version": 3
   },
   "file_extension": ".py",
   "mimetype": "text/x-python",
   "name": "python",
   "nbconvert_exporter": "python",
   "pygments_lexer": "ipython3",
   "version": "3.8.8"
  }
 },
 "nbformat": 4,
 "nbformat_minor": 5
}
